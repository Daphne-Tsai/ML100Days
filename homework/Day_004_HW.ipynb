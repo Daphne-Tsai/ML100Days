{
 "cells": [
  {
   "cell_type": "markdown",
   "metadata": {},
   "source": [
    "## 題目\n",
    "\n",
    "english_score = np.array([55,89,76,65,48,70]) <br>\n",
    "math_score = np.array([60,85,60,68,55,60]) <br>\n",
    "chinese_score = np.array([65,90,82,72,66,77])\n",
    "<br><br>\n",
    "上 3 列共六位同學的英文、數學、國文成績，第一個元素代表第一位同學"
   ]
  },
  {
   "cell_type": "markdown",
   "metadata": {},
   "source": [
    "## (1) 有多少學生英文成績比數學成績高?"
   ]
  },
  {
   "cell_type": "code",
   "execution_count": 1,
   "metadata": {},
   "outputs": [],
   "source": [
    "import numpy as np"
   ]
  },
  {
   "cell_type": "code",
   "execution_count": 2,
   "metadata": {},
   "outputs": [
    {
     "name": "stdout",
     "output_type": "stream",
     "text": [
      "3 位學生\n"
     ]
    }
   ],
   "source": [
    "english_score = np.array([55,89,76,65,48,70]) \n",
    "math_score = np.array([60,85,60,68,55,60]) \n",
    "chinese_score = np.array([65,90,82,72,66,77]) \n",
    "\n",
    "number = 0\n",
    "\n",
    "for i in np.greater(english_score,math_score):\n",
    "    if i == True:\n",
    "        number = number + 1\n",
    "        \n",
    "print (number, '位學生')"
   ]
  },
  {
   "cell_type": "markdown",
   "metadata": {},
   "source": [
    "## (2) 是否全班同學最高分都是國文?"
   ]
  },
  {
   "cell_type": "code",
   "execution_count": 3,
   "metadata": {},
   "outputs": [],
   "source": [
    "A = np.greater(chinese_score,math_score)\n",
    "B = np.greater(chinese_score,english_score)\n",
    "C = np.logical_and(A,B)\n",
    "\n",
    "number = 0\n",
    "\n",
    "for i in C:\n",
    "    if i == False:\n",
    "        number = number +1 \n",
    "\n",
    "if number == 6:\n",
    "    print('全班同學最高分都是國文')"
   ]
  }
 ],
 "metadata": {
  "kernelspec": {
   "display_name": "Python 3",
   "language": "python",
   "name": "python3"
  },
  "language_info": {
   "codemirror_mode": {
    "name": "ipython",
    "version": 3
   },
   "file_extension": ".py",
   "mimetype": "text/x-python",
   "name": "python",
   "nbconvert_exporter": "python",
   "pygments_lexer": "ipython3",
   "version": "3.7.2"
  }
 },
 "nbformat": 4,
 "nbformat_minor": 2
}
