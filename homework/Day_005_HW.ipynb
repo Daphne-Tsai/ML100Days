{
 "cells": [
  {
   "cell_type": "code",
   "execution_count": 1,
   "metadata": {},
   "outputs": [],
   "source": [
    "import numpy as np"
   ]
  },
  {
   "cell_type": "markdown",
   "metadata": {},
   "source": [
    "## 題目\n",
    "\n",
    "english_score = np.array([55,89,76,65,48,70])<br>math_score = np.array([60,85,60,68,np.nan,60])<br>chinese_score = np.array([65,90,82,72,66,77])\n",
    "\n",
    "#### 上 3 列共六位同學的英文、數學、國文成績，第一個元素代表第一位同學\n",
    "\n",
    "## (1) 請計算各科成績中位數、最大值、最小值、標準差 (其中數學缺一筆資料可忽略)"
   ]
  },
  {
   "cell_type": "code",
   "execution_count": 2,
   "metadata": {},
   "outputs": [
    {
     "name": "stdout",
     "output_type": "stream",
     "text": [
      "英文中位數： 67.2\n",
      "英文最大值： 89\n",
      "英文最小值： 48\n",
      "英文標準差： 13.4\n",
      "\n",
      "\n",
      "數學中位數： 66.6\n",
      "數學最大值： 85.0\n",
      "數學最小值： 60.0\n",
      "數學標準差： 9.7\n",
      "\n",
      "\n",
      "國文中位數： 75.3\n",
      "國文最大值： 90\n",
      "國文最小值： 65\n",
      "國文標準差： 8.8\n"
     ]
    }
   ],
   "source": [
    "english_score = np.array([55,89,76,65,48,70])\n",
    "math_score = np.array([60,85,60,68,np.nan,60])\n",
    "chinese_score = np.array([65,90,82,72,66,77])\n",
    "\n",
    "#英文成績\n",
    "\n",
    "Emax = np.nanmax(english_score)\n",
    "Emin = np.nanmin(english_score)\n",
    "Eaverage = np.nanmean(english_score)\n",
    "Es = np.nanstd(english_score)\n",
    "\n",
    "print('英文中位數：',round(Eaverage,1))\n",
    "print('英文最大值：',round(Emax,1))\n",
    "print('英文最小值：',round(Emin,1))\n",
    "print('英文標準差：',round(Es,1))\n",
    "\n",
    "#數學成績\n",
    "\n",
    "Mmax = np.nanmax(math_score)\n",
    "Mmin = np.nanmin(math_score)\n",
    "Maverage = np.nanmean(math_score)\n",
    "Ms = np.nanstd(math_score)\n",
    "\n",
    "print('\\n')\n",
    "print('數學中位數：',round(Maverage,1))\n",
    "print('數學最大值：',round(Mmax,1))\n",
    "print('數學最小值：',round(Mmin,1))\n",
    "print('數學標準差：',round(Ms,1))\n",
    "\n",
    "#國文成績\n",
    "\n",
    "Cmax = np.nanmax(chinese_score)\n",
    "Cmin = np.nanmin(chinese_score)\n",
    "Caverage = np.nanmean(chinese_score)\n",
    "Cs = np.nanstd(chinese_score)\n",
    "\n",
    "print('\\n')\n",
    "print('國文中位數：',round(Caverage,1))\n",
    "print('國文最大值：',round(Cmax,1))\n",
    "print('國文最小值：',round(Cmin,1))\n",
    "print('國文標準差：',round(Cs,1))\n",
    "\n",
    "\n"
   ]
  },
  {
   "cell_type": "markdown",
   "metadata": {},
   "source": [
    "## (2) 第五位同學補考數學後成績為 55，請計算補考後數學成績中位數、最大值、最小值、標準差?\n"
   ]
  },
  {
   "cell_type": "code",
   "execution_count": 3,
   "metadata": {},
   "outputs": [
    {
     "name": "stdout",
     "output_type": "stream",
     "text": [
      "中位數 64.7\n",
      "最大值 85.0\n",
      "最小值 55.0\n",
      "標準差 9.9\n"
     ]
    }
   ],
   "source": [
    "math_score[4] = 55\n",
    "\n",
    "print('中位數',round(np.nanmean(math_score),1))\n",
    "print('最大值',round(np.nanmax(math_score),1))\n",
    "print('最小值',round(np.nanmin(math_score),1))\n",
    "print('標準差',round(np.std(math_score),1))"
   ]
  },
  {
   "cell_type": "markdown",
   "metadata": {},
   "source": [
    "## (3) 用補考後資料找出與國文成績相關係數最高的學科"
   ]
  },
  {
   "cell_type": "code",
   "execution_count": 4,
   "metadata": {},
   "outputs": [
    {
     "name": "stdout",
     "output_type": "stream",
     "text": [
      "[[1.         0.74056803]\n",
      " [0.74056803 1.        ]]\n",
      "[[1.         0.97792828]\n",
      " [0.97792828 1.        ]]\n"
     ]
    }
   ],
   "source": [
    "# 英文與國文相關係數較高\n",
    "print(np.corrcoef(math_score, y=chinese_score, rowvar=True))\n",
    "print(np.corrcoef(english_score, y=chinese_score, rowvar=True))"
   ]
  }
 ],
 "metadata": {
  "kernelspec": {
   "display_name": "Python 3",
   "language": "python",
   "name": "python3"
  },
  "language_info": {
   "codemirror_mode": {
    "name": "ipython",
    "version": 3
   },
   "file_extension": ".py",
   "mimetype": "text/x-python",
   "name": "python",
   "nbconvert_exporter": "python",
   "pygments_lexer": "ipython3",
   "version": "3.7.2"
  }
 },
 "nbformat": 4,
 "nbformat_minor": 2
}
