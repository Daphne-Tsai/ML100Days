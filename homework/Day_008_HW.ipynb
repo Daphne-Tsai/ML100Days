{
 "cells": [
  {
   "cell_type": "markdown",
   "metadata": {},
   "source": [
    "## 題目\n",
    "\n",
    "name_list = ['小明','小華','小菁','小美','小張','John','Mark','Tom'] <br>\n",
    "sex_list = ['boy','boy','girl','girl','boy','boy','boy','boy']<br>\n",
    "weight_list = [67.5,75.3,50.1,45.5,80.8,90.4,78.4,70.7]<br>\n",
    "rank_list = [8,1,5,4,7,6,2,3]<br>\n",
    "myopia_list = [True,True,False,False,True,True,False,False]<br>\n"
   ]
  },
  {
   "cell_type": "code",
   "execution_count": 1,
   "metadata": {},
   "outputs": [],
   "source": [
    "import numpy as np"
   ]
  },
  {
   "cell_type": "markdown",
   "metadata": {},
   "source": [
    "## (1) 將上列 list 依照 ['name', 'sex', 'weight', 'rank', 'myopia'] 順序擺入 array，並且資料型態順序擺入 [Unicode,Unicode,float,int,boolean]"
   ]
  },
  {
   "cell_type": "code",
   "execution_count": 2,
   "metadata": {},
   "outputs": [],
   "source": [
    "dt = np.dtype({'names':('name','sex','weight','rank','myopia'), 'formats':('U10','U8','f','i8','?')})"
   ]
  },
  {
   "cell_type": "code",
   "execution_count": 3,
   "metadata": {},
   "outputs": [
    {
     "name": "stdout",
     "output_type": "stream",
     "text": [
      "[('name', '<U10'), ('sex', '<U8'), ('weight', '<f4'), ('rank', '<i8'), ('myopia', '?')]\n"
     ]
    }
   ],
   "source": [
    "# 建立空陣列，並採用 dt 資料型態順序\n",
    "A = np.zeros(8, dtype=dt)\n",
    "\n",
    "print(A.dtype)"
   ]
  },
  {
   "cell_type": "code",
   "execution_count": 4,
   "metadata": {},
   "outputs": [
    {
     "name": "stdout",
     "output_type": "stream",
     "text": [
      "[('小明', 'boy', 67.5, 8,  True) ('小華', 'boy', 75.3, 1,  True)\n",
      " ('小菁', 'girl', 50.1, 5, False) ('小美', 'girl', 45.5, 4, False)\n",
      " ('小張', 'boy', 80.8, 7,  True) ('John', 'boy', 90.4, 6,  True)\n",
      " ('Mark', 'boy', 78.4, 2, False) ('Tom', 'boy', 70.7, 3, False)]\n"
     ]
    }
   ],
   "source": [
    "name = ['小明','小華','小菁','小美','小張','John','Mark','Tom'] \n",
    "sex = ['boy','boy','girl','girl','boy','boy','boy','boy']\n",
    "weight = [67.5,75.3,50.1,45.5,80.8,90.4,78.4,70.7]\n",
    "rank = [8,1,5,4,7,6,2,3]\n",
    "myopia = [True,True,False,False,True,True,False,False]\n",
    "\n",
    "A['name'] = name\n",
    "A['sex'] = sex\n",
    "A['weight'] = weight\n",
    "A['rank'] = rank\n",
    "A['myopia'] = myopia\n",
    "\n",
    "print(A)"
   ]
  },
  {
   "cell_type": "markdown",
   "metadata": {},
   "source": [
    "## (2) 呈上題，將 array 中體重(weight)數據集取出算出全部平均體重\n"
   ]
  },
  {
   "cell_type": "code",
   "execution_count": 5,
   "metadata": {},
   "outputs": [
    {
     "name": "stdout",
     "output_type": "stream",
     "text": [
      "69.84\n"
     ]
    }
   ],
   "source": [
    "total_weight = 0\n",
    "\n",
    "for i in A:\n",
    "    total_weight = total_weight+i[2]\n",
    "    \n",
    "print(round((total_weight/8),2))"
   ]
  },
  {
   "cell_type": "markdown",
   "metadata": {},
   "source": [
    "## (3) 呈上題，進一步算出男生(sex 欄位是 boy)平均體重、女生(sex 欄位是 girl)平均體重"
   ]
  },
  {
   "cell_type": "code",
   "execution_count": 6,
   "metadata": {},
   "outputs": [
    {
     "name": "stdout",
     "output_type": "stream",
     "text": [
      "77.18\n",
      "47.8\n"
     ]
    }
   ],
   "source": [
    "total_weight_boy = 0\n",
    "boy_times = 0\n",
    "total_weight_girl = 0\n",
    "girl_times = 0\n",
    "\n",
    "for i in A:\n",
    "    if i[1] =='boy':\n",
    "        total_weight_boy = total_weight_boy+i[2]\n",
    "        boy_times+=1\n",
    "    elif i[1] =='girl':\n",
    "        total_weight_girl = total_weight_girl+i[2]\n",
    "        girl_times+=1\n",
    "        \n",
    "print(round((total_weight_boy/boy_times),2))\n",
    "print(round((total_weight_girl/girl_times),2))\n"
   ]
  }
 ],
 "metadata": {
  "kernelspec": {
   "display_name": "Python 3",
   "language": "python",
   "name": "python3"
  },
  "language_info": {
   "codemirror_mode": {
    "name": "ipython",
    "version": 3
   },
   "file_extension": ".py",
   "mimetype": "text/x-python",
   "name": "python",
   "nbconvert_exporter": "python",
   "pygments_lexer": "ipython3",
   "version": "3.7.2"
  }
 },
 "nbformat": 4,
 "nbformat_minor": 2
}
